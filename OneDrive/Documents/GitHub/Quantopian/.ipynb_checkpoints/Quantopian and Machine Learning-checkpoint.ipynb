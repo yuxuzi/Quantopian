{
 "cells": [
  {
   "cell_type": "markdown",
   "metadata": {},
   "source": [
    "##  Quantopian and Machine Learning\n"
   ]
  },
  {
   "cell_type": "markdown",
   "metadata": {},
   "source": [
    "*Leo Liu  07/08/2018*"
   ]
  },
  {
   "cell_type": "markdown",
   "metadata": {},
   "source": [
    "### Summary\n"
   ]
  },
  {
   "cell_type": "markdown",
   "metadata": {},
   "source": [
    "In quantitative finance machine learning is used in various ways, which include prediction\n",
    "of future asset prices, optimizing trading strategy parameters, managing risk and detection of\n",
    "signals among noisy datasets.\n",
    "\n",
    "In these exercises, simple machine learning models were used to estimate the next movement. To construct a strong classifier, \n",
    "I combined multiple models by simple vote. The ensemble learning is called bagging.  "
   ]
  },
  {
   "cell_type": "markdown",
   "metadata": {},
   "source": [
    "### Ensemble classifier"
   ]
  },
  {
   "cell_type": "markdown",
   "metadata": {},
   "source": [
    "I wrote a simple ensemble classifier **ML_classifiers**, which is lacked in current version of sklearn \n",
    "available in Quantopian. The **ML_classifiers** take list of classifiers as input, e.g. LogisticRegression, SVC. It fits \n",
    "on training data and predicts by simple vote."
   ]
  },
  {
   "cell_type": "code",
   "execution_count": 3,
   "metadata": {},
   "outputs": [],
   "source": [
    "class ML_classifiers: \n",
    "    \"\"\"\n",
    "        simple ensumble model \n",
    "    \"\"\"\n",
    "    def __init__(self, models):\n",
    "        \"\"\"\n",
    "        Args:\n",
    "            models: list of machine learning classifiers\n",
    "        \n",
    "        \"\"\"\n",
    "        self._models=models\n",
    "    def fit(self,X,y):\n",
    "        \"\"\"\n",
    "        fit traing data\n",
    "        Args:\n",
    "            X: training features\n",
    "            y: labels\n",
    "        \"\"\"\n",
    "        for mod in self._models:\n",
    "            mod.fit(X,y)\n",
    "    def predict(self,x):\n",
    "        \"\"\"\n",
    "        predicts on new feature x from each classifiers\n",
    "        Args:\n",
    "            x: new feature\n",
    "        \"\"\"\n",
    "        return [mod.predict(x)[0] for mod in self._models]  \n",
    "    def predict_vote(self,x):\n",
    "        \"\"\"\n",
    "        predicts on new feature x by simple vote\n",
    "        Args:\n",
    "            x: new feature\n",
    "        \"\"\"\n",
    "        cnts=Counter([mod.predict(x)[0] for mod in self._models])\n",
    "        return cnts.most_common(1)[0][0]"
   ]
  },
  {
   "cell_type": "markdown",
   "metadata": {},
   "source": [
    "### Algorithm 1"
   ]
  },
  {
   "cell_type": "markdown",
   "metadata": {},
   "source": [
    "* In this algorithm, I used previous changes to predict the next movement. \n",
    "* The securities were chosen\n",
    "from symbols AAPL, BA, WMT, COST and MLA. \n",
    "* The rolling window are ten days. The deque was used to \n",
    "store changes. \n",
    "* A bagging of three classifiers were employed in the prediction, which are random forest, linear SVC\n",
    "and logistic regression. \n",
    "* The predicted movement had three status: up (>0.5%), down(<-0.5%) and stay.\n",
    "* The trading strategy longs stock if the stock is predicted up and short if down.    \n",
    "    "
   ]
  },
  {
   "cell_type": "code",
   "execution_count": null,
   "metadata": {},
   "outputs": [],
   "source": [
    "from sklearn.linear_model import LogisticRegression\n",
    "from sklearn.svm import  LinearSVC\n",
    "from sklearn.ensemble import RandomForestClassifier\n",
    "from sklearn import preprocessing\n",
    "from collections import deque\n",
    "from collections import Counter\n",
    "from quantopian.pipeline.data.builtin import USEquityPricing\n",
    "import numpy as np\n",
    "\n",
    "def initialize(context):\n",
    "\n",
    "    # chosen securities\n",
    "    context.securities = [symbol('AAPL'), symbol('BA'), symbol('WMT'),symbol('IBM'),symbol('COST'),symbol('MLA')] \n",
    "    context.window_length = 10 # Amount of prior bars to study\n",
    "    \n",
    "    # bagging classifier of three\n",
    "    context.classifiers=ML_classifiers([RandomForestClassifier(),  LinearSVC(), LogisticRegression()])                         \n",
    "          \n",
    "    # deques are lists with a maximum length where old entries are shifted out\n",
    "    # Stores recent prices with deque\n",
    "    context.recent_prices = {stock: deque(maxlen=context.window_length+2) for stock in context.securities} \n",
    "    # Independent, or input variables\n",
    "    context.X = { stock: deque(maxlen=500)  for stock in context.securities}\n",
    "    # Dependent, or output variable\n",
    "    context.Y = { stock: deque(maxlen=500)  for stock in context.securities}   \n",
    "    \n",
    "    schedule_function(rebalance, date_rules.every_day(), time_rules.market_close(minutes=5))\n",
    "    schedule_function(record_vars, date_rules.every_day(), time_rules.market_close())    \n",
    "\n",
    "    \n",
    "def rebalance(context, data):\n",
    "    for stock in context.securities:\n",
    "        # Update the recent prices\n",
    "        context.recent_prices[stock].append(data.current(stock, 'price')) \n",
    "        # If there is enough recent price data\n",
    "        if len(context.recent_prices[stock]) == context.window_length+2: \n",
    "        \n",
    "           # previous changes\n",
    "            changes = np.diff(context.recent_prices[stock])/ context.recent_prices[stock][-1]        \n",
    "            context.X[stock].append(changes[:-1])\n",
    "            # labels with three status [1,0.5,0] mapping to up, stay and down, 0.05 is the threshold\n",
    "            context.Y[stock].append(   1 if changes[-1]>0.005 else 0.5 if  changes[-1]>=-0.005  else 0 )\n",
    "            if len(context.Y[stock]) < 100 or np.isnan(context.X[stock]).any():\n",
    "                continue\n",
    "            # train model    \n",
    "            context.classifiers.fit(context.X[stock],context.Y[stock])\n",
    "            # make prediction\n",
    "            prediction=context.classifiers.predict_vote(changes[1:])\n",
    "            # If prediction = 1, buy all shares affordable, if 0 sell all shares\n",
    "            if prediction in [1,0]:\n",
    "                # place order, multiplied by 0.5 to limit leverage\n",
    "                order_target_percent(stock, prediction*0.5)                \n",
    "\n",
    "                \n",
    "def record_vars(context, data):\n",
    "    record(Leverage=context.account.leverage)"
   ]
  },
  {
   "cell_type": "markdown",
   "metadata": {},
   "source": [
    "**Backtest Result**"
   ]
  },
  {
   "cell_type": "markdown",
   "metadata": {},
   "source": [
    "![Algorithm 1 Result](img/Machine_Learning_1.png)"
   ]
  },
  {
   "cell_type": "markdown",
   "metadata": {},
   "source": [
    "### Algorithm 2"
   ]
  },
  {
   "cell_type": "markdown",
   "metadata": {},
   "source": [
    "* In this algorithm, I used simple moving average SMA and  momentum indicators ADX, RSI to \n",
    "predict the next movement.\n",
    "* The stocks to take is chosen by volume with percentile from 99.5 to 100.\n",
    "* The algorithm predict if a stock will move up or not.\n",
    "* A bagging of three classifiers were employed in the prediction, which are Adaboost and GaussianNB\n",
    "* The strategy longs stock if the stock is predicted up and cashes out otherwise."
   ]
  },
  {
   "cell_type": "code",
   "execution_count": null,
   "metadata": {},
   "outputs": [],
   "source": [
    "from talib import SMA, ADX, RSI\n",
    "import numpy as np\n",
    "from sklearn.naive_bayes import GaussianNB\n",
    "from sklearn.ensemble import AdaBoostClassifier as Adaboost\n",
    "\n",
    "def initialize(context):\n",
    "    \n",
    "    #Variables to change    \n",
    "    context.lookback = 1250          #How many bars of data to use in the machine learning classifier\n",
    "    context.omit = 251               #How many points to omit.  To get rid of nan's.  Currently set to 251 for the 250 day SMA\n",
    "    context.timeframe = 20           #How often are we trading? Weekly? 5.  Monthly? 20.\n",
    "    context.time_to_run = 15         #How many minutes before market close to trade\n",
    "    context.gain_cutoff = 0.01       #What percent gain is needs to be predicted before going long\n",
    "    context.target_levervage = 1.0   #Target leverage\n",
    "    context.ML=ML_classifiers( [Adaboost(),  GaussianNB()]) #bagging classifier of two    \n",
    "    #Stocks to trade\n",
    "    set_universe(universe.DollarVolumeUniverse(floor_percentile=99.5, ceiling_percentile=100)) \n",
    "    \n",
    "    schedule_function(rebalance, date_rules.month_start(), time_rules.market_close(minutes=(context.time_to_run+2)), half_days=True)  #Get the data\n",
    "\n",
    "    \n",
    "\n",
    "def handle_data(context, data):\n",
    "    record(leverage=context.account.leverage)\n",
    "    \n",
    "#Getting the data, formatting the features and labels.\n",
    "def rebalance(context, data):\n",
    "    \n",
    "    #Pricing data\n",
    "    prices = history(context.lookback, '1d', 'price')\n",
    "    highs = history(context.lookback, '1d', 'high')\n",
    "    lows = history(context.lookback, '1d', 'low')\n",
    "\n",
    "    \n",
    "    #Clear the lists so that some points are not repeated\n",
    "    hold_list = []           # holding list of stocks\n",
    "    feature_test={}          # features to predict, indexed by stock\n",
    "    X,y=[],[]                # list holds features and label\n",
    "    for stock in data:        \n",
    "        #Indicators simple moving average SMA and momentum indicators ADX, RSI \n",
    "        feature_list=[]\n",
    "        feature_list+=list(map(lambda  period : SMA(prices[stock], timeperiod=period)/prices[stock], [5,10,20,50,100,200,250]))\n",
    "        feature_list+=list(map(lambda  period : ADX(highs[stock], lows[stock],prices[stock], timeperiod=period)/prices[stock], [7,14,25]))\n",
    "        feature_list+=list(map(lambda  period : RSI(prices[stock], timeperiod=period)/prices[stock], [7,14,25]))   \n",
    "        \n",
    "        #Labels 1 means move up    \n",
    "        labels=(prices[stock].pct_change(periods=context.timeframe)>context.gain_cutoff).astype('int32').shift(-context.timeframe)#The percent change of the stock represented as 5.46%, -13.2% for example\n",
    "     \n",
    "        #Only go through the none nan values      \n",
    "        for i in range(context.omit, (context.lookback-context.timeframe)):\n",
    "            #collect features by date       \n",
    "            features=[ item[i]  for item in feature_list] \n",
    "             #Check any nan value in the features   \n",
    "            if not np.isnan(features).any():             \n",
    "                X.append(features)             \n",
    "                y.append(labels[i])\n",
    "               \n",
    "                \n",
    "        # gather feature to predict        \n",
    "        tmp=[ item[-1]  for item in feature_list]\n",
    "        if not np.isnan(tmp).any():\n",
    "            feature_test[stock]=tmp\n",
    "            \n",
    "            \n",
    "    # train model        \n",
    "    context.ML.fit(X,y)\n",
    "    for stock in data:\n",
    "        if stock in feature_test :\n",
    "            # predict by sum of predictions\n",
    "            predict=sum(context.ML.predict(feature_test[stock]))\n",
    "            # if predicted move up, add stock to holding list\n",
    "            if predict>1.5:\n",
    "                hold_list.append(stock)\n",
    "\n",
    "    # calcualte weight according to holding list            \n",
    "    weight= float(context.target_levervage / len(hold_list)) if hold_list else 0.0\n",
    "    # Make orders\n",
    "    for stock in data:\n",
    "        if stock in hold_list:\n",
    "            order_target_percent(stock, weight)\n",
    "        else: \n",
    "            order_target_percent(stock, 0.0)  "
   ]
  },
  {
   "cell_type": "markdown",
   "metadata": {},
   "source": [
    "**Backtest Result**"
   ]
  },
  {
   "cell_type": "markdown",
   "metadata": {},
   "source": [
    "![Algorithm 2 Result](img/Machine_Learning_2.png)"
   ]
  },
  {
   "cell_type": "code",
   "execution_count": null,
   "metadata": {},
   "outputs": [],
   "source": []
  }
 ],
 "metadata": {
  "kernelspec": {
   "display_name": "Python 3",
   "language": "python",
   "name": "python3"
  },
  "language_info": {
   "codemirror_mode": {
    "name": "ipython",
    "version": 3
   },
   "file_extension": ".py",
   "mimetype": "text/x-python",
   "name": "python",
   "nbconvert_exporter": "python",
   "pygments_lexer": "ipython3",
   "version": "3.6.4"
  }
 },
 "nbformat": 4,
 "nbformat_minor": 2
}
